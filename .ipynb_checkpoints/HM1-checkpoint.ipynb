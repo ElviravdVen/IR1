{
 "cells": [
  {
   "cell_type": "markdown",
   "metadata": {},
   "source": [
    "# Step 1: Stimulate Rankings of Relevance for E and P (5 points)"
   ]
  },
  {
   "cell_type": "code",
   "execution_count": 1,
   "metadata": {
    "collapsed": false
   },
   "outputs": [
    {
     "name": "stdout",
     "output_type": "stream",
     "text": [
      "243\n",
      "(('R', 'HR', 'R', 'HR', 'HR'), ('R', 'R', 'N', 'N', 'HR'))\n",
      "(('HR', 'R', 'R', 'HR', 'R'), ('N', 'N', 'R', 'R', 'N'))\n",
      "(('N', 'R', 'R', 'R', 'R'), ('R', 'HR', 'R', 'N', 'HR'))\n",
      "(('N', 'N', 'N', 'HR', 'N'), ('R', 'R', 'R', 'HR', 'N'))\n",
      "(('HR', 'HR', 'N', 'N', 'R'), ('N', 'N', 'R', 'N', 'R'))\n"
     ]
    }
   ],
   "source": [
    "import itertools as iter\n",
    "import numpy as np\n",
    "import random\n",
    "\n",
    "#The gradings\n",
    "relevance_gradings = ['N', 'R', 'HR']\n",
    "\n",
    "# Create all possible versions of length five rankings\n",
    "list_p = [p for p in iter.product(relevance_gradings, repeat=5)]\n",
    "list_e = [p for p in iter.product(relevance_gradings, repeat=5)]\n",
    "\n",
    "print(len(list_e))\n",
    "\n",
    "# Create all possible pairs of the two lists - if computing power permits\n",
    "#list_pairs = [list(zip(list_p, p)) for p in itertools.permutations(list_e)]\n",
    "\n",
    "# Sampling - take one at random from list 1 and one 1 from list 2 until 1000.\n",
    "sample_size = 1000\n",
    "sample_list_p = [random.choice(list_p) for _ in range(sample_size)]\n",
    "sample_list_e = [random.choice(list_e) for _ in range(sample_size)]\n",
    "\n",
    "sample_pairs = list(zip(sample_list_p, sample_list_e))\n",
    "\n",
    "for i in range(0,5):\n",
    "    print(sample_pairs[i])"
   ]
  },
  {
   "cell_type": "markdown",
   "metadata": {},
   "source": [
    "# Step 2: Implement Evaluation Measures"
   ]
  },
  {
   "cell_type": "code",
   "execution_count": 11,
   "metadata": {
    "collapsed": false
   },
   "outputs": [
    {
     "name": "stdout",
     "output_type": "stream",
     "text": [
      "The average precision across the queries for the production algorithm is: 0.5469233333333325\n",
      "The average precision across the queries for the experimental algorithm is: 0.5507399999999996\n"
     ]
    }
   ],
   "source": [
    "# Binary - Precision at rank K\n",
    "def calc_ave_precision(list_of_relevance):\n",
    "    rank_length = len(list_of_relevance)\n",
    "    running_score = 0\n",
    "    relevant_count = 0\n",
    "    for i in range(0, rank_length):\n",
    "        if(list_of_relevance[i] == \"R\" or list_of_relevance[i] == \"HR\"):\n",
    "            relevant_count += 1\n",
    "            running_score += relevant_count / (i+1)\n",
    "    ave_precision = running_score / rank_length\n",
    "    return ave_precision\n",
    "\n",
    "p_scores = []\n",
    "e_scores = []\n",
    "\n",
    "for pairs in sample_pairs:\n",
    "    p_scores.append(calc_ave_precision(pairs[0]))\n",
    "    e_scores.append(calc_ave_precision(pairs[1]))\n",
    "    \n",
    "p_ave_precision_over_queries = sum(p_scores) / len(p_scores)\n",
    "e_ave_precision_over_queries = sum(e_scores) / len(e_scores)\n",
    "\n",
    "print(\"The average precision across the queries for the production algorithm is: %s\" % p_ave_precision_over_queries)\n",
    "print(\"The average precision across the queries for the experimental algorithm is: %s\" % e_ave_precision_over_queries)"
   ]
  },
  {
   "cell_type": "code",
   "execution_count": null,
   "metadata": {
    "collapsed": true
   },
   "outputs": [],
   "source": []
  }
 ],
 "metadata": {
  "kernelspec": {
   "display_name": "Python 3",
   "language": "python",
   "name": "python3"
  },
  "language_info": {
   "codemirror_mode": {
    "name": "ipython",
    "version": 3
   },
   "file_extension": ".py",
   "mimetype": "text/x-python",
   "name": "python",
   "nbconvert_exporter": "python",
   "pygments_lexer": "ipython3",
   "version": "3.5.2"
  }
 },
 "nbformat": 4,
 "nbformat_minor": 1
}
