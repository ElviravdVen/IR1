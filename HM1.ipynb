{
 "cells": [
  {
   "cell_type": "markdown",
   "metadata": {},
   "source": [
    "# Step 1: Stimulate Rankings of Relevance for E and P (5 points)"
   ]
  },
  {
   "cell_type": "code",
   "execution_count": 11,
   "metadata": {
    "collapsed": false
   },
   "outputs": [
    {
     "name": "stdout",
     "output_type": "stream",
     "text": [
      "243\n",
      "(('N', 'HR', 'R', 'HR', 'HR'), ('R', 'N', 'R', 'N', 'HR'))\n",
      "(('N', 'HR', 'N', 'HR', 'HR'), ('N', 'HR', 'R', 'HR', 'N'))\n",
      "(('R', 'HR', 'HR', 'HR', 'R'), ('N', 'R', 'HR', 'R', 'N'))\n",
      "(('N', 'HR', 'HR', 'N', 'R'), ('N', 'HR', 'HR', 'HR', 'N'))\n",
      "(('N', 'R', 'N', 'N', 'R'), ('HR', 'R', 'HR', 'HR', 'R'))\n"
     ]
    }
   ],
   "source": [
    "import itertools as iter\n",
    "import numpy as np\n",
    "import random\n",
    "import math\n",
    "import pandas as pd\n",
    "\n",
    "#The gradings\n",
    "relevance_gradings = ['N', 'R', 'HR']\n",
    "\n",
    "# Create all possible versions of length five rankings\n",
    "list_p = [p for p in iter.product(relevance_gradings, repeat=5)]\n",
    "list_e = [p for p in iter.product(relevance_gradings, repeat=5)]\n",
    "\n",
    "print(len(list_e))\n",
    "\n",
    "# Create all possible pairs of the two lists - if computing power permits\n",
    "#list_pairs = [list(zip(list_p, p)) for p in itertools.permutations(list_e)]\n",
    "\n",
    "# Sampling - take one at random from list 1 and one 1 from list 2 until 1000.\n",
    "sample_size = 5000\n",
    "sample_list_p = [random.choice(list_p) for _ in range(sample_size)]\n",
    "sample_list_e = [random.choice(list_e) for _ in range(sample_size)]\n",
    "\n",
    "sample_pairs = list(zip(sample_list_p, sample_list_e))\n",
    "\n",
    "for i in range(0,5):\n",
    "    print(sample_pairs[i])"
   ]
  },
  {
   "cell_type": "markdown",
   "metadata": {},
   "source": [
    "# Step 2: Implement Evaluation Measures (15 points)"
   ]
  },
  {
   "cell_type": "markdown",
   "metadata": {},
   "source": [
    "### Binary Measure - Average Precision"
   ]
  },
  {
   "cell_type": "code",
   "execution_count": 12,
   "metadata": {
    "collapsed": false
   },
   "outputs": [
    {
     "name": "stdout",
     "output_type": "stream",
     "text": [
      "The average precision across the queries for the production algorithm is: 0.5516206666666816\n",
      "The average precision across the queries for the experimental algorithm is: 0.5466226666666789\n"
     ]
    }
   ],
   "source": [
    "def calc_ave_precision(list_of_relevance):\n",
    "    rank_length = len(list_of_relevance)\n",
    "    running_score = 0\n",
    "    relevant_count = 0\n",
    "    for i in range(0, rank_length):\n",
    "        if(list_of_relevance[i] == \"R\" or list_of_relevance[i] == \"HR\"):\n",
    "            relevant_count += 1\n",
    "            running_score += relevant_count / (i+1)\n",
    "    ave_precision = running_score / rank_length\n",
    "    return ave_precision\n",
    "\n",
    "p_AP_scores = []\n",
    "e_AP_scores = []\n",
    "\n",
    "# Calculate average precision for all queries\n",
    "for pairs in sample_pairs:\n",
    "    p_AP_scores.append(calc_ave_precision(pairs[0]))\n",
    "    e_AP_scores.append(calc_ave_precision(pairs[1]))\n",
    "\n",
    "# Calculate the average of the average precisions across queries\n",
    "p_ave_precision_over_queries = sum(p_AP_scores) / len(p_AP_scores)\n",
    "e_ave_precision_over_queries = sum(e_AP_scores) / len(e_AP_scores)\n",
    "\n",
    "print(\"The average precision across the queries for the production algorithm is: %s\" % p_ave_precision_over_queries)\n",
    "print(\"The average precision across the queries for the experimental algorithm is: %s\" % e_ave_precision_over_queries)"
   ]
  },
  {
   "cell_type": "markdown",
   "metadata": {
    "collapsed": true
   },
   "source": [
    "### Multi-graded Evaluation Measure 1 - Discounted Cummulative Gain at rank k. "
   ]
  },
  {
   "cell_type": "code",
   "execution_count": 13,
   "metadata": {
    "collapsed": false
   },
   "outputs": [
    {
     "name": "stdout",
     "output_type": "stream",
     "text": [
      "The average DCG@5 across the queries for the production algorithm is: 31.281319758220512\n",
      "The average DCG@5 across the queries for the experimental algorithm is: 31.6939435053116\n"
     ]
    }
   ],
   "source": [
    "# Gain for each relevance label\n",
    "relevance_gain_dict = {'HR': 5, 'R': 1, 'N': 0}\n",
    "\n",
    "# Function that calculates DCG@5\n",
    "def DCG_Rank_K(ranked_list):\n",
    "    gain = 0\n",
    "    discounted_gain = 0\n",
    "    for i, item in enumerate(ranked_list):\n",
    "        rel = relevance_gain_dict[item]\n",
    "        discounted_gain += (2**rel - 1) /  (math.log2(i + 1 + 1))\n",
    "    return discounted_gain\n",
    "\n",
    "\n",
    "p_DCG_scores = []\n",
    "e_DCG_scores = []\n",
    "\n",
    "# Calculate DCG@5 for each algorithm on all queries\n",
    "for pairs in sample_pairs:\n",
    "    p_DCG_scores.append(DCG_Rank_K(pairs[0]))\n",
    "    e_DCG_scores.append(DCG_Rank_K(pairs[1]))\n",
    "\n",
    "# Calculate the average of the average precisions across queries\n",
    "p_ave_DCG_over_queries = sum(p_DCG_scores) / len(p_DCG_scores)\n",
    "e_ave_DCG_over_queries = sum(e_DCG_scores) / len(e_DCG_scores)\n",
    "\n",
    "print(\"The average DCG@5 across the queries for the production algorithm is: %s\" % p_ave_DCG_over_queries)\n",
    "print(\"The average DCG@5 across the queries for the experimental algorithm is: %s\" % e_ave_DCG_over_queries)   "
   ]
  },
  {
   "cell_type": "markdown",
   "metadata": {},
   "source": [
    "### Multi-graded Evaluation Measure 2 - Rank Biased Precision with persistence parameter $\\theta = 0.8$ "
   ]
  },
  {
   "cell_type": "code",
   "execution_count": 14,
   "metadata": {
    "collapsed": false
   },
   "outputs": [
    {
     "name": "stdout",
     "output_type": "stream",
     "text": [
      "The average RBP across the queries for the production algorithm is: 8.740578095967448\n",
      "The average RBP across the queries for the experimental algorithm is: 8.80413553926393\n"
     ]
    }
   ],
   "source": [
    "# Gain for each relevance label\n",
    "relevance_gain_dict = {'HR': 5, 'R': 1, 'N': 0}\n",
    "\n",
    "# Function that calculates RBP\n",
    "def calc_RBP(ranked_list):\n",
    "    theta = 0.8\n",
    "    expected_utility = 0\n",
    "    for i, item in enumerate(ranked_list):\n",
    "        k_rel = relevance_gain_dict[item]\n",
    "        expected_utility += k_rel * pow(theta, (i+1)*(1-theta))\n",
    "    return expected_utility\n",
    "\n",
    "p_RBP_scores = []\n",
    "e_RBP_scores = []\n",
    "\n",
    "# Calculate RBP for each algorithm on all queries\n",
    "for pairs in sample_pairs:\n",
    "    p_RBP_scores.append(calc_RBP(pairs[0]))\n",
    "    e_RBP_scores.append(calc_RBP(pairs[1]))\n",
    "\n",
    "# Calculate the average of the average precisions across queries\n",
    "p_ave_RBP_over_queries = sum(p_RBP_scores) / len(p_RBP_scores)\n",
    "e_ave_RBP_over_queries = sum(e_RBP_scores) / len(e_RBP_scores)\n",
    "\n",
    "print(\"The average RBP across the queries for the production algorithm is: %s\" %p_ave_RBP_over_queries)\n",
    "print(\"The average RBP across the queries for the experimental algorithm is: %s\" %e_ave_RBP_over_queries)"
   ]
  },
  {
   "cell_type": "markdown",
   "metadata": {},
   "source": [
    "# Step 3: Calculate the $\\Delta measure$ (5 poins)"
   ]
  },
  {
   "cell_type": "code",
   "execution_count": 15,
   "metadata": {
    "collapsed": false
   },
   "outputs": [],
   "source": [
    "# Function to compare two lists of scores\n",
    "def compare_lists(list_a, list_b):\n",
    "    b_better_pairs = []\n",
    "    for i, item in enumerate(list_a):\n",
    "        if item < list_b[i]:\n",
    "            #b_better_pairs.append((list_b[i], item))\n",
    "            b_better_pairs.append(i)\n",
    "    return b_better_pairs\n",
    "\n",
    "\n",
    "# Average Precision Difference Measure\n",
    "E_better_AP = compare_lists(p_AP_scores, e_AP_scores)\n",
    "E_better_AP_Pairs = list(map((lambda x: sample_pairs[x]), E_better_AP))\n",
    "#print(E_better_AP_Pairs[0:5])\n",
    "\n",
    "# DCG@5 Difference Measure\n",
    "E_better_DCG = compare_lists(p_DCG_scores, e_DCG_scores)\n",
    "E_better_DCG_Pairs = list(map((lambda x: sample_pairs[x]), E_better_DCG))\n",
    "#print(E_better_DCG_Pairs[0:5])\n",
    "\n",
    "# RBP Difference Measure\n",
    "E_better_RBP = compare_lists(p_RBP_scores, e_RBP_scores)\n",
    "E_better_RBP_Pairs = list(map((lambda x: sample_pairs[x]), E_better_RBP))\n",
    "#print(E_better_RBP_Pairs[0:5])"
   ]
  },
  {
   "cell_type": "markdown",
   "metadata": {},
   "source": [
    "# Step 4: Implement Interleaving (15 points)"
   ]
  },
  {
   "cell_type": "markdown",
   "metadata": {},
   "source": [
    "### Balanced Interleaving"
   ]
  },
  {
   "cell_type": "code",
   "execution_count": 16,
   "metadata": {
    "collapsed": false
   },
   "outputs": [
    {
     "name": "stdout",
     "output_type": "stream",
     "text": [
      "Rankings from P: ('N', 'HR', 'R', 'HR', 'HR') and Rankings from E: ('R', 'N', 'R', 'N', 'HR')\n",
      "Interleaved with Balanced interleaving gives: ['R', 'N', 'N', 'HR', 'R', 'R', 'N', 'HR', 'HR', 'HR'] \n"
     ]
    }
   ],
   "source": [
    "class Interleave_balanced:\n",
    "    def interleave(self, list_a, list_b, interleave_length=10, clicks = False, click_prob=0):\n",
    "        # Interleaved list\n",
    "        interleaved = []\n",
    "        \n",
    "        # Indices of the a_list and b_list\n",
    "        k_a = 1\n",
    "        k_b = 1\n",
    "        a_indices = []\n",
    "        b_indices = []\n",
    "        \n",
    "        # Clicks for eac h algorithm\n",
    "        a_wins = 0\n",
    "        b_wins = 0\n",
    "\n",
    "        a_first = random.randint(0, 100) % 2\n",
    "        #print(\"B first\" if a_first == 0 else \"A first\")\n",
    "\n",
    "        # while (k_a <= (len(list_a)) and k_b <= len(list_b)):\n",
    "        while (len(interleaved) < (len(list_a) + len(list_b))):\n",
    "            if (k_a < k_b) or ((k_a == k_b) and a_first == 1):\n",
    "                # if (list_a[k_a-1] not in interleaved):\n",
    "                interleaved.append(list_a[k_a - 1])\n",
    "                k_a += 1\n",
    "            else:\n",
    "                # if (list_b[k_b-1] not in interleaved):\n",
    "                interleaved.append(list_b[k_b - 1])\n",
    "                k_b += 1\n",
    "                # print(interleaved, \"\\n\")\n",
    "        \n",
    "        if(clicks):\n",
    "            # Winner = 1 if B wins, else 0\n",
    "            winner = 0\n",
    "            for i, doc in enumerate(interleaved):\n",
    "                click = random.uniform(0, 1)\n",
    "                if(click <= click_prob):\n",
    "                    if(i in a_indices):\n",
    "                        a_wins += 1\n",
    "                    else:\n",
    "                        b_wins += 1\n",
    "            # Only if b strictly beats a (Question)\n",
    "            if(b_wins > a_wins): \n",
    "                winner = 1\n",
    "\n",
    "        if(clicks):\n",
    "            # If there is a click model, only output the winner (Question)\n",
    "            return winner\n",
    "        else:\n",
    "            return interleaved\n",
    "\n",
    "        \n",
    "# Interleave all sample pairs\n",
    "balanced_interleaver = Interleave_balanced()\n",
    "balanced_interleaved = []\n",
    "\n",
    "for pairs in sample_pairs:\n",
    "    balanced_interleaved.append(balanced_interleaver.interleave(pairs[0], pairs[1]))\n",
    "\n",
    "print(\"Rankings from P: %s and Rankings from E: %s\" % (sample_pairs[0][0], sample_pairs[0][1]))\n",
    "print(\"Interleaved with Balanced interleaving gives: %s \" % (balanced_interleaved[0]))"
   ]
  },
  {
   "cell_type": "markdown",
   "metadata": {},
   "source": [
    "### Probabilistic Interleaving"
   ]
  },
  {
   "cell_type": "code",
   "execution_count": 17,
   "metadata": {
    "collapsed": false
   },
   "outputs": [
    {
     "name": "stdout",
     "output_type": "stream",
     "text": [
      "Rankings from P: ('N', 'HR', 'R', 'HR', 'HR') and Rankings from E: ('R', 'N', 'R', 'N', 'HR')\n",
      "Interleaved with Probabilistic interleaving gives: ['R', 'R', 'HR', 'HR', 'N', 'N', 'R', 'N'] \n"
     ]
    }
   ],
   "source": [
    "class Interleave_probabilistic:\n",
    "\n",
    "    def soft_max(self, ranked_list, gamma):\n",
    "        selection_probabilities = []\n",
    "        normalizer = 0\n",
    "        for i in range(len(ranked_list)):\n",
    "            non_normalized_prob = 1 / (i + 1)**gamma\n",
    "            normalizer += non_normalized_prob\n",
    "            selection_probabilities.append(non_normalized_prob)\n",
    "        selection_probabilities = map(lambda x: x / normalizer, selection_probabilities)\n",
    "        return list(selection_probabilities)\n",
    "\n",
    "    def interleave(self, list_a, list_b, rank_length=10, gamma=3, clicks=False, click_prob=0):\n",
    "        # Control final list length, if total results are shorter than rank_length\n",
    "        if((len(list_a) + len(list_b)) < rank_length):\n",
    "            rank_length = len(list_a) if len(list_a) <= len(list_b) else len(list_b)        \n",
    "        \n",
    "        # The interleaved list to be presented to the user\n",
    "        interleaved = []\n",
    "        \n",
    "        # Lists of indices of each algorithms document in the interleaved list \n",
    "        a_indices = []\n",
    "        b_indices = []\n",
    "        \n",
    "        # Click counts for each algorithm\n",
    "        a_clicks = 0\n",
    "        b_clicks = 0\n",
    "\n",
    "        # Calculate probabilities for each document in each list\n",
    "        prob_a = self.soft_max(list_a, gamma)\n",
    "        prob_b = self.soft_max(list_b, gamma)\n",
    "\n",
    "        soft_max_selections_a = list(np.random.choice(list_a, len(list_a), p=prob_a, replace=False))\n",
    "        soft_max_selections_b = list(np.random.choice(list_b, len(list_b), p=prob_b, replace=False))\n",
    "\n",
    "        for i in range(rank_length):\n",
    "            if(len(soft_max_selections_a) > 0 and len(soft_max_selections_b) > 0):\n",
    "                choice = np.random.ranf()\n",
    "                if(choice <= 0.5):\n",
    "                    interleaved.append(soft_max_selections_a.pop(0))\n",
    "                    a_indices.append(i)\n",
    "                else:\n",
    "                    interleaved.append(soft_max_selections_b.pop(0))\n",
    "                    b_indices.append(i)\n",
    "\n",
    "            else:\n",
    "                # Now it stops if when of the lists run out. (Question)\n",
    "                break\n",
    "\n",
    "\n",
    "        if(clicks):\n",
    "            # Winner = 1 if B wins, else 0\n",
    "            winner = 0\n",
    "            for i, doc in enumerate(interleaved):\n",
    "                click = random.uniform(0, 1)\n",
    "                if(click <= click_prob):\n",
    "                    if(i in a_indices):\n",
    "                        a_clicks += 1\n",
    "                    else:\n",
    "                        b_clicks += 1\n",
    "            # Only if b strictly beats a (Question)\n",
    "            if(b_clicks > a_clicks): \n",
    "                winner = 1\n",
    "\n",
    "        if(clicks):\n",
    "            # If there is a click model, only output the winner (Question)\n",
    "            return winner\n",
    "        else:\n",
    "            return interleaved\n",
    "\n",
    "probabilistic_interleaver = Interleave_probabilistic()\n",
    "\n",
    "# Interleave all sample pairs\n",
    "probabilistic_interleaved = []\n",
    "for pairs in sample_pairs:\n",
    "    probabilistic_interleaved.append(probabilistic_interleaver.interleave(pairs[0], pairs[1]))\n",
    "\n",
    "print(\"Rankings from P: %s and Rankings from E: %s\" % (sample_pairs[0][0], sample_pairs[0][1])) \n",
    "print(\"Interleaved with Probabilistic interleaving gives: %s \" % (probabilistic_interleaved[0]))"
   ]
  },
  {
   "cell_type": "markdown",
   "metadata": {},
   "source": [
    "# Step 5: Implement User Clicks Simulation (25 points)"
   ]
  },
  {
   "cell_type": "markdown",
   "metadata": {
    "collapsed": false
   },
   "source": [
    "### Random Click Model (RCM)"
   ]
  },
  {
   "cell_type": "code",
   "execution_count": 18,
   "metadata": {
    "collapsed": false
   },
   "outputs": [
    {
     "name": "stdout",
     "output_type": "stream",
     "text": [
      "The RCM trained on the Yandex Log file, gives a click probability p of 0.13445559411.\n"
     ]
    }
   ],
   "source": [
    "# All documents can be clicked with the same probability\n",
    "\n",
    "# The probability of being clicked is (number of clicks)/(number of documents shown)\n",
    "\n",
    "# This is what the model has to learn. \n",
    "headers = ['SessionID', 'TimePassed', 'TypeOfAction', 'QueryID', 'RegionID', \n",
    "'Rank1_URLID', \n",
    "'Rank2_URLID', \n",
    "'Rank3_URLID', \n",
    "'Rank4_URLID', \n",
    "'Rank5_URLID', \n",
    "'Rank6_URLID', \n",
    "'Rank7_URLID', \n",
    "'Rank8_URLID', \n",
    "'Rank9_URLID', \n",
    "'Rank10_URLID']\n",
    "\n",
    "data = pd.read_csv('YandexRelPredChallenge.txt', sep='\\t', names = headers)\n",
    "\n",
    "class Random_Click_Model:\n",
    "    \n",
    "    def __init__(self):\n",
    "        self.click_prob = 0\n",
    "\n",
    "    def random_click_model_learn(self, query_dataframe):\n",
    "        query_count = 0\n",
    "        click_prob_per_query = []\n",
    "\n",
    "        for index, row in query_dataframe.iterrows():\n",
    "            # Include session check\n",
    "            if(row['TypeOfAction'] == 'Q'):\n",
    "                query_count += 1\n",
    "                documents_shown = row[5:15].count()\n",
    "                click_count = 0\n",
    "                rows_below = 1\n",
    "                if((index + rows_below) >= len(query_dataframe.index)):\n",
    "                    click_prob_per_query.append(click_count / documents_shown)\n",
    "                    break\n",
    "                next_row_type = query_dataframe.iloc[index + rows_below]['TypeOfAction']\n",
    "                if(next_row_type == 'C'):\n",
    "                    while(next_row_type == 'C'):\n",
    "                        click_count += 1\n",
    "                        rows_below += 1\n",
    "                        if((index + rows_below) >= len(query_dataframe.index)):\n",
    "                            break\n",
    "                        else:\n",
    "                            next_row_type = query_dataframe.iloc[index + rows_below]['TypeOfAction']\n",
    "                    click_prob_per_query.append(click_count / documents_shown)\n",
    "                else:\n",
    "                    click_prob_per_query.append(click_count / documents_shown)\n",
    "        average_click_prob = sum(click_prob_per_query) / len(click_prob_per_query)\n",
    "        self.click_prob = average_click_prob\n",
    "\n",
    "random_click_model = Random_Click_Model()\n",
    "random_click_model.random_click_model_learn(data)\n",
    "\n",
    "print(\"The RCM trained on the Yandex Log file, gives a click probability p of %s.\" % random_click_model.click_prob)\n",
    "  "
   ]
  },
  {
   "cell_type": "markdown",
   "metadata": {},
   "source": [
    "### Simplified Dynamic Bayesian Network model (SDBN)"
   ]
  },
  {
   "cell_type": "code",
   "execution_count": 23,
   "metadata": {
    "collapsed": false
   },
   "outputs": [
    {
     "name": "stdout",
     "output_type": "stream",
     "text": [
      "23.45580914905643\n",
      "The SDBN trained on the Yandex Log file and with balanced interleaved labels, gives a click probability p of 23.45580914905643.\n"
     ]
    }
   ],
   "source": [
    "class SDBN:\n",
    "    def __init__(self):\n",
    "        self.click_prob = 0\n",
    "    \n",
    "    def determine_attractiveness(self, relevance_label, rank):\n",
    "        label = relevance_label[(rank-1)]\n",
    "        if(label == 'HR'):\n",
    "            return 5\n",
    "        elif(label == 'R'):\n",
    "            return 1\n",
    "        else:\n",
    "            return 0\n",
    "                \n",
    "    def determine_examination(self, rank, attractiveness, satisfaction, gamma = 1): \n",
    "        if(rank == 1):\n",
    "            return 1\n",
    "        else:\n",
    "            return (self.determine_examination((rank-1), satisfaction, attractiveness) * gamma * (attractiveness * (1 - satisfaction) + (1 - attractiveness)))\n",
    "\n",
    "   \n",
    "        \n",
    "    def SDBN_learn(self, query_dataframe, relevance_labels):\n",
    "        click_prob_per_query = []\n",
    "        click_prob = []\n",
    "        query_count = 0\n",
    "        \n",
    "        for index, row in query_dataframe.iterrows():\n",
    "            next_row_type = query_dataframe.iloc[(index+1)]['TypeOfAction']\n",
    "            next_row_session_ID = query_dataframe.iloc[(index+1)]['SessionID']\n",
    "            current_row_session_ID = query_dataframe.iloc[index]['SessionID']\n",
    "            if(row['TypeOfAction'] == 'Q'):\n",
    "                rank = 0\n",
    "                if (next_row_type == 'C'):\n",
    "                    query_count +=1\n",
    "                    if(query_count >= len(relevance_labels)):\n",
    "                        if(len(click_prob_per_query) > 0):\n",
    "                            click_prob = sum(click_prob_per_query) / len(click_prob_per_query)\n",
    "                            print(click_prob)   \n",
    "                            return click_prob\n",
    "                    \n",
    "                if(len(click_prob) > 0):\n",
    "                    prob = sum(click_prob)/len(click_prob)\n",
    "                    #print(\"prob per query: \", prob)\n",
    "                    click_prob_per_query.append(prob)\n",
    "                    del click_prob[:]\n",
    "            else:\n",
    "                rank+=1\n",
    "                if(rank < 10):\n",
    "                    if (next_row_session_ID > current_row_session_ID ):\n",
    "                        satisfaction = 1\n",
    "                    else:\n",
    "                        satisfaction = 0\n",
    "                    attractiveness = self.determine_attractiveness(relevance_labels[query_count], rank)\n",
    "                    examination = self.determine_examination(rank, attractiveness, satisfaction)\n",
    "                    click_prob.append(attractiveness * examination)\n",
    "                    #print(\"click_prob on rank\", rank, \": \", attractiveness * examination)\n",
    "        \n",
    "        if(len(click_prob_per_query) > 0):\n",
    "            click_prob = sum(click_prob_per_query) / len(click_prob_per_query)\n",
    "        return click_prob\n",
    "            \n",
    "sdbn = SDBN()\n",
    "result = sdbn.SDBN_learn(data, balanced_interleaved)\n",
    "\n",
    "print(\"The SDBN trained on the Yandex Log file and with balanced interleaved labels, gives a click probability p of %s.\" % result)"
   ]
  },
  {
   "cell_type": "markdown",
   "metadata": {},
   "source": [
    "# Step 6: Simulate Interleaving Experiment (10 points)"
   ]
  },
  {
   "cell_type": "code",
   "execution_count": 27,
   "metadata": {
    "collapsed": false,
    "scrolled": true
   },
   "outputs": [
    {
     "name": "stdout",
     "output_type": "stream",
     "text": [
      "Interleaver:  Interleave_probabilistic Click model:  Random_Click_Model\n",
      "The proportion of E wins over P across the 1000 samples is: 0.2672\n",
      "The proportion of E wins over P across the samples where E has a better AP is: 0.2767844957008325\n",
      "-----------------------\n",
      "Interleaver:  Interleave_balanced Click model:  Random_Click_Model\n",
      "The proportion of E wins over P across the 1000 samples is: 0.7728\n",
      "The proportion of E wins over P across the samples where E has a better AP is: 0.7679814385150812\n",
      "-----------------------\n",
      "Interleaver:  Interleave_probabilistic Click model:  SDBN\n",
      "The proportion of E wins over P across the 1000 samples is: 0.0\n",
      "The proportion of E wins over P across the samples where E has a better AP is: 0.0\n",
      "-----------------------\n",
      "Interleaver:  Interleave_balanced Click model:  SDBN\n",
      "The proportion of E wins over P across the 1000 samples is: 0.0\n",
      "The proportion of E wins over P across the samples where E has a better AP is: 0.0\n",
      "-----------------------\n"
     ]
    }
   ],
   "source": [
    "def simulation(interleaver, click_model):\n",
    "    winners = []\n",
    "    print(\"Interleaver: \", type(interleaver).__name__, \"Click model: \", type(click_model).__name__)\n",
    "    for pairs in sample_pairs:\n",
    "        winners.append(interleaver.interleave(pairs[0], pairs[1],\n",
    "                                          clicks=True, click_prob=click_model.click_prob))\n",
    "    \n",
    "    print(\"The proportion of E wins over P across the 1000 samples is: %s\" % (sum(winners)/len(winners)))\n",
    "    \n",
    "    winners_AP_compare = []\n",
    "    for pairs in E_better_AP_Pairs:\n",
    "        winners.append(interleaver.interleave(pairs[0], pairs[1],\n",
    "                                              clicks=True, click_prob=click_model.click_prob))\n",
    "    \n",
    "    print(\"The proportion of E wins over P across the samples where E has a better AP is: %s\" % (sum(winners)/len(winners)))\n",
    "    print(\"-----------------------\")\n",
    "\n",
    "simulation(probabilistic_interleaver, random_click_model)\n",
    "simulation(balanced_interleaver, random_click_model)\n",
    "\n",
    "simulation(probabilistic_interleaver, sdbn)\n",
    "simulation(balanced_interleaver, sdbn)"
   ]
  },
  {
   "cell_type": "markdown",
   "metadata": {},
   "source": [
    "# Step 7: Results and Analyis (25 points)"
   ]
  },
  {
   "cell_type": "code",
   "execution_count": null,
   "metadata": {
    "collapsed": true
   },
   "outputs": [],
   "source": [
    "# "
   ]
  },
  {
   "cell_type": "code",
   "execution_count": null,
   "metadata": {
    "collapsed": true
   },
   "outputs": [],
   "source": []
  }
 ],
 "metadata": {
  "anaconda-cloud": {},
  "kernelspec": {
   "display_name": "Python [default]",
   "language": "python",
   "name": "python3"
  },
  "language_info": {
   "codemirror_mode": {
    "name": "ipython",
    "version": 3
   },
   "file_extension": ".py",
   "mimetype": "text/x-python",
   "name": "python",
   "nbconvert_exporter": "python",
   "pygments_lexer": "ipython3",
   "version": "3.5.2"
  }
 },
 "nbformat": 4,
 "nbformat_minor": 1
}
