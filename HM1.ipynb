{
 "cells": [
  {
   "cell_type": "markdown",
   "metadata": {},
   "source": [
    "# Step 1: Stimulate Rankings of Relevance for E and P (5 points)"
   ]
  },
  {
   "cell_type": "code",
   "execution_count": 1,
   "metadata": {
    "collapsed": false
   },
   "outputs": [
    {
     "name": "stdout",
     "output_type": "stream",
     "text": [
      "243\n",
      "(('N', 'R', 'HR', 'R', 'R'), ('R', 'HR', 'R', 'HR', 'HR'))\n",
      "(('N', 'HR', 'HR', 'R', 'R'), ('N', 'R', 'N', 'N', 'R'))\n",
      "(('HR', 'N', 'HR', 'R', 'HR'), ('N', 'HR', 'HR', 'R', 'HR'))\n",
      "(('R', 'R', 'R', 'N', 'HR'), ('R', 'HR', 'HR', 'HR', 'N'))\n",
      "(('R', 'HR', 'HR', 'R', 'R'), ('N', 'R', 'HR', 'HR', 'HR'))\n"
     ]
    }
   ],
   "source": [
    "import itertools as iter\n",
    "import numpy as np\n",
    "import random\n",
    "import math\n",
    "\n",
    "#The gradings\n",
    "relevance_gradings = ['N', 'R', 'HR']\n",
    "\n",
    "# Create all possible versions of length five rankings\n",
    "list_p = [p for p in iter.product(relevance_gradings, repeat=5)]\n",
    "list_e = [p for p in iter.product(relevance_gradings, repeat=5)]\n",
    "\n",
    "print(len(list_e))\n",
    "\n",
    "# Create all possible pairs of the two lists - if computing power permits\n",
    "#list_pairs = [list(zip(list_p, p)) for p in itertools.permutations(list_e)]\n",
    "\n",
    "# Sampling - take one at random from list 1 and one 1 from list 2 until 1000.\n",
    "sample_size = 1000\n",
    "sample_list_p = [random.choice(list_p) for _ in range(sample_size)]\n",
    "sample_list_e = [random.choice(list_e) for _ in range(sample_size)]\n",
    "\n",
    "sample_pairs = list(zip(sample_list_p, sample_list_e))\n",
    "\n",
    "for i in range(0,5):\n",
    "    print(sample_pairs[i])"
   ]
  },
  {
   "cell_type": "markdown",
   "metadata": {},
   "source": [
    "# Step 2: Implement Evaluation Measures"
   ]
  },
  {
   "cell_type": "markdown",
   "metadata": {},
   "source": [
    "### Binary Measure - Average Precision"
   ]
  },
  {
   "cell_type": "code",
   "execution_count": 12,
   "metadata": {
    "collapsed": false
   },
   "outputs": [
    {
     "name": "stdout",
     "output_type": "stream",
     "text": [
      "The average precision across the queries for the production algorithm is: 0.5469233333333325\n",
      "The average precision across the queries for the experimental algorithm is: 0.5507399999999996\n"
     ]
    }
   ],
   "source": [
    "def calc_ave_precision(list_of_relevance):\n",
    "    rank_length = len(list_of_relevance)\n",
    "    running_score = 0\n",
    "    relevant_count = 0\n",
    "    for i in range(0, rank_length):\n",
    "        if(list_of_relevance[i] == \"R\" or list_of_relevance[i] == \"HR\"):\n",
    "            relevant_count += 1\n",
    "            running_score += relevant_count / (i+1)\n",
    "    ave_precision = running_score / rank_length\n",
    "    return ave_precision\n",
    "\n",
    "p_scores = []\n",
    "e_scores = []\n",
    "\n",
    "# Calculate average precision for all queries\n",
    "for pairs in sample_pairs:\n",
    "    p_scores.append(calc_ave_precision(pairs[0]))\n",
    "    e_scores.append(calc_ave_precision(pairs[1]))\n",
    "\n",
    "# Calculate the average of the average precisions across queries\n",
    "p_ave_precision_over_queries = sum(p_scores) / len(p_scores)\n",
    "e_ave_precision_over_queries = sum(e_scores) / len(e_scores)\n",
    "\n",
    "print(\"The average precision across the queries for the production algorithm is: %s\" % p_ave_precision_over_queries)\n",
    "print(\"The average precision across the queries for the experimental algorithm is: %s\" % e_ave_precision_over_queries)"
   ]
  },
  {
   "cell_type": "markdown",
   "metadata": {
    "collapsed": true
   },
   "source": [
    "### Multi-graded Evaluation Measure 1 - Discounted Cummulative Gain at rank k. "
   ]
  },
  {
   "cell_type": "code",
   "execution_count": 11,
   "metadata": {
    "collapsed": false
   },
   "outputs": [
    {
     "name": "stdout",
     "output_type": "stream",
     "text": [
      "The average DCG@5 across the queries for the production algorithm is: 30.78860108185417\n",
      "The average DCG@5 across the queries for the experimental algorithm is: 32.21138537731719\n"
     ]
    }
   ],
   "source": [
    "# Gain for each relevance label\n",
    "relevance_gain_dict = {'HR': 5, 'R': 1, 'N': 0}\n",
    "\n",
    "# Function that calculates DCG@5\n",
    "def DCG_Rank_K(ranked_list):\n",
    "    gain = 0\n",
    "    discounted_gain = 0\n",
    "    for i, item in enumerate(ranked_list):\n",
    "        rel = relevance_gain_dict[item]\n",
    "        discounted_gain += (2**rel - 1) /  (math.log2(i + 1 + 1))\n",
    "    return discounted_gain\n",
    "\n",
    "\n",
    "p_DCG_scores = []\n",
    "e_DCG_scores = []\n",
    "\n",
    "# Calculate DCG@5 for each algorithm on all queries\n",
    "for pairs in sample_pairs:\n",
    "    p_DCG_scores.append(DCG_Rank_K(pairs[0]))\n",
    "    e_DCG_scores.append(DCG_Rank_K(pairs[1]))\n",
    "\n",
    "# Calculate the average of the average precisions across queries\n",
    "p_ave_DCG_over_queries = sum(p_DCG_scores) / len(p_DCG_scores)\n",
    "e_ave_DCG_over_queries = sum(e_DCG_scores) / len(e_DCG_scores)\n",
    "\n",
    "print(\"The average DCG@5 across the queries for the production algorithm is: %s\" % p_ave_DCG_over_queries)\n",
    "print(\"The average DCG@5 across the queries for the experimental algorithm is: %s\" % e_ave_DCG_over_queries)   "
   ]
  },
  {
   "cell_type": "code",
   "execution_count": null,
   "metadata": {
    "collapsed": true
   },
   "outputs": [],
   "source": []
  }
 ],
 "metadata": {
  "kernelspec": {
   "display_name": "Python 3",
   "language": "python",
   "name": "python3"
  },
  "language_info": {
   "codemirror_mode": {
    "name": "ipython",
    "version": 3
   },
   "file_extension": ".py",
   "mimetype": "text/x-python",
   "name": "python",
   "nbconvert_exporter": "python",
   "pygments_lexer": "ipython3",
   "version": "3.5.2"
  }
 },
 "nbformat": 4,
 "nbformat_minor": 1
}
