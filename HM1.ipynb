{
 "cells": [
  {
   "cell_type": "markdown",
   "metadata": {},
   "source": [
    "# Step 1: Stimulate Rankings of Relevance for E and P (5 points)"
   ]
  },
  {
   "cell_type": "code",
   "execution_count": 2,
   "metadata": {
    "collapsed": false
   },
   "outputs": [
    {
     "name": "stdout",
     "output_type": "stream",
     "text": [
      "243\n",
      "(('R', 'R', 'N', 'R', 'HR'), ('HR', 'HR', 'N', 'N', 'HR'))\n",
      "(('HR', 'N', 'HR', 'HR', 'N'), ('HR', 'R', 'R', 'N', 'HR'))\n",
      "(('R', 'R', 'N', 'HR', 'N'), ('HR', 'N', 'R', 'R', 'HR'))\n",
      "(('N', 'HR', 'N', 'R', 'HR'), ('R', 'R', 'HR', 'HR', 'N'))\n",
      "(('N', 'N', 'R', 'R', 'N'), ('R', 'R', 'N', 'R', 'R'))\n"
     ]
    }
   ],
   "source": [
    "import itertools as iter\n",
    "import numpy as np\n",
    "import random\n",
    "import math\n",
    "import pandas as pd\n",
    "\n",
    "#The gradings\n",
    "relevance_gradings = ['N', 'R', 'HR']\n",
    "\n",
    "# Create all possible versions of length five rankings\n",
    "list_p = [p for p in iter.product(relevance_gradings, repeat=5)]\n",
    "list_e = [p for p in iter.product(relevance_gradings, repeat=5)]\n",
    "\n",
    "print(len(list_e))\n",
    "\n",
    "# Create all possible pairs of the two lists - if computing power permits\n",
    "#list_pairs = [list(zip(list_p, p)) for p in itertools.permutations(list_e)]\n",
    "\n",
    "# Sampling - take one at random from list 1 and one 1 from list 2 until 1000.\n",
    "sample_size = 1000\n",
    "sample_list_p = [random.choice(list_p) for _ in range(sample_size)]\n",
    "sample_list_e = [random.choice(list_e) for _ in range(sample_size)]\n",
    "\n",
    "sample_pairs = list(zip(sample_list_p, sample_list_e))\n",
    "\n",
    "for i in range(0,5):\n",
    "    print(sample_pairs[i])"
   ]
  },
  {
   "cell_type": "markdown",
   "metadata": {},
   "source": [
    "# Step 2: Implement Evaluation Measures (15 points)"
   ]
  },
  {
   "cell_type": "markdown",
   "metadata": {},
   "source": [
    "### Binary Measure - Average Precision"
   ]
  },
  {
   "cell_type": "code",
   "execution_count": 3,
   "metadata": {
    "collapsed": false
   },
   "outputs": [
    {
     "name": "stdout",
     "output_type": "stream",
     "text": [
      "The average precision across the queries for the production algorithm is: 0.544719999999999\n",
      "The average precision across the queries for the experimental algorithm is: 0.5529666666666668\n"
     ]
    }
   ],
   "source": [
    "def calc_ave_precision(list_of_relevance):\n",
    "    rank_length = len(list_of_relevance)\n",
    "    running_score = 0\n",
    "    relevant_count = 0\n",
    "    for i in range(0, rank_length):\n",
    "        if(list_of_relevance[i] == \"R\" or list_of_relevance[i] == \"HR\"):\n",
    "            relevant_count += 1\n",
    "            running_score += relevant_count / (i+1)\n",
    "    ave_precision = running_score / rank_length\n",
    "    return ave_precision\n",
    "\n",
    "p_AP_scores = []\n",
    "e_AP_scores = []\n",
    "\n",
    "# Calculate average precision for all queries\n",
    "for pairs in sample_pairs:\n",
    "    p_AP_scores.append(calc_ave_precision(pairs[0]))\n",
    "    e_AP_scores.append(calc_ave_precision(pairs[1]))\n",
    "\n",
    "# Calculate the average of the average precisions across queries\n",
    "p_ave_precision_over_queries = sum(p_AP_scores) / len(p_AP_scores)\n",
    "e_ave_precision_over_queries = sum(e_AP_scores) / len(e_AP_scores)\n",
    "\n",
    "print(\"The average precision across the queries for the production algorithm is: %s\" % p_ave_precision_over_queries)\n",
    "print(\"The average precision across the queries for the experimental algorithm is: %s\" % e_ave_precision_over_queries)"
   ]
  },
  {
   "cell_type": "markdown",
   "metadata": {
    "collapsed": true
   },
   "source": [
    "### Multi-graded Evaluation Measure 1 - Discounted Cummulative Gain at rank k. "
   ]
  },
  {
   "cell_type": "code",
   "execution_count": 4,
   "metadata": {
    "collapsed": false
   },
   "outputs": [
    {
     "name": "stdout",
     "output_type": "stream",
     "text": [
      "The average DCG@5 across the queries for the production algorithm is: 32.23483965194793\n",
      "The average DCG@5 across the queries for the experimental algorithm is: 31.59031501020045\n"
     ]
    }
   ],
   "source": [
    "# Gain for each relevance label\n",
    "relevance_gain_dict = {'HR': 5, 'R': 1, 'N': 0}\n",
    "\n",
    "# Function that calculates DCG@5\n",
    "def DCG_Rank_K(ranked_list):\n",
    "    gain = 0\n",
    "    discounted_gain = 0\n",
    "    for i, item in enumerate(ranked_list):\n",
    "        rel = relevance_gain_dict[item]\n",
    "        discounted_gain += (2**rel - 1) /  (math.log2(i + 1 + 1))\n",
    "    return discounted_gain\n",
    "\n",
    "\n",
    "p_DCG_scores = []\n",
    "e_DCG_scores = []\n",
    "\n",
    "# Calculate DCG@5 for each algorithm on all queries\n",
    "for pairs in sample_pairs:\n",
    "    p_DCG_scores.append(DCG_Rank_K(pairs[0]))\n",
    "    e_DCG_scores.append(DCG_Rank_K(pairs[1]))\n",
    "\n",
    "# Calculate the average of the average precisions across queries\n",
    "p_ave_DCG_over_queries = sum(p_DCG_scores) / len(p_DCG_scores)\n",
    "e_ave_DCG_over_queries = sum(e_DCG_scores) / len(e_DCG_scores)\n",
    "\n",
    "print(\"The average DCG@5 across the queries for the production algorithm is: %s\" % p_ave_DCG_over_queries)\n",
    "print(\"The average DCG@5 across the queries for the experimental algorithm is: %s\" % e_ave_DCG_over_queries)   "
   ]
  },
  {
   "cell_type": "markdown",
   "metadata": {},
   "source": [
    "### Multi-graded Evaluation Measure 2 - Rank Biased Precision with persistence parameter $\\theta = 0.8$ "
   ]
  },
  {
   "cell_type": "code",
   "execution_count": 5,
   "metadata": {
    "collapsed": false
   },
   "outputs": [
    {
     "name": "stdout",
     "output_type": "stream",
     "text": [
      "The average RBP across the queries for the production algorithm is: 8.945141120628817\n",
      "The average RBP across the queries for the experimental algorithm is: 8.789549765979341\n"
     ]
    }
   ],
   "source": [
    "# Gain for each relevance label\n",
    "relevance_gain_dict = {'HR': 5, 'R': 1, 'N': 0}\n",
    "\n",
    "# Function that calculates RBP\n",
    "def calc_RBP(ranked_list):\n",
    "    theta = 0.8\n",
    "    expected_utility = 0\n",
    "    for i, item in enumerate(ranked_list):\n",
    "        k_rel = relevance_gain_dict[item]\n",
    "        expected_utility += k_rel * pow(theta, (i+1)*(1-theta))\n",
    "    return expected_utility\n",
    "\n",
    "p_RBP_scores = []\n",
    "e_RBP_scores = []\n",
    "\n",
    "# Calculate RBP for each algorithm on all queries\n",
    "for pairs in sample_pairs:\n",
    "    p_RBP_scores.append(calc_RBP(pairs[0]))\n",
    "    e_RBP_scores.append(calc_RBP(pairs[1]))\n",
    "\n",
    "# Calculate the average of the average precisions across queries\n",
    "p_ave_RBP_over_queries = sum(p_RBP_scores) / len(p_RBP_scores)\n",
    "e_ave_RBP_over_queries = sum(e_RBP_scores) / len(e_RBP_scores)\n",
    "\n",
    "print(\"The average RBP across the queries for the production algorithm is: %s\" %p_ave_RBP_over_queries)\n",
    "print(\"The average RBP across the queries for the experimental algorithm is: %s\" %e_ave_RBP_over_queries)"
   ]
  },
  {
   "cell_type": "markdown",
   "metadata": {},
   "source": [
    "# Step 3: Calculate the $\\Delta measure$ (5 poins)"
   ]
  },
  {
   "cell_type": "code",
   "execution_count": 6,
   "metadata": {
    "collapsed": false
   },
   "outputs": [],
   "source": [
    "# Function to compare two lists of scores\n",
    "def compare_lists(list_a, list_b):\n",
    "    b_better_pairs = []\n",
    "    for i, item in enumerate(list_a):\n",
    "        if item < list_b[i]:\n",
    "            #b_better_pairs.append((list_b[i], item))\n",
    "            b_better_pairs.append(i)\n",
    "    return b_better_pairs\n",
    "\n",
    "\n",
    "# Average Precision Difference Measure\n",
    "E_better_AP = compare_lists(p_AP_scores, e_AP_scores)\n",
    "E_better_AP_Pairs = list(map((lambda x: sample_pairs[x]), E_better_AP))\n",
    "#print(E_better_AP_Pairs[0:5])\n",
    "\n",
    "# DCG@5 Difference Measure\n",
    "E_better_DCG = compare_lists(p_DCG_scores, e_DCG_scores)\n",
    "E_better_DCG_Pairs = list(map((lambda x: sample_pairs[x]), E_better_DCG))\n",
    "#print(E_better_DCG_Pairs[0:5])\n",
    "\n",
    "# RBP Difference Measure\n",
    "E_better_RBP = compare_lists(p_RBP_scores, e_RBP_scores)\n",
    "E_better_RBP_Pairs = list(map((lambda x: sample_pairs[x]), E_better_RBP))\n",
    "#print(E_better_RBP_Pairs[0:5])"
   ]
  },
  {
   "cell_type": "markdown",
   "metadata": {},
   "source": [
    "# Step 4: Implement Interleaving (15 points)"
   ]
  },
  {
   "cell_type": "markdown",
   "metadata": {},
   "source": [
    "### Team Draft Interleaving"
   ]
  },
  {
   "cell_type": "code",
   "execution_count": 7,
   "metadata": {
    "collapsed": false
   },
   "outputs": [
    {
     "name": "stdout",
     "output_type": "stream",
     "text": [
      "Rankings from P: ('R', 'R', 'N', 'R', 'HR') and Rankings from E: ('HR', 'HR', 'N', 'N', 'HR')\n",
      "Interleaved with Team-Draft interleaving gives: ['R', 'HR', 'HR', 'R', 'N', 'N', 'R', 'N', 'HR', 'HR'] \n"
     ]
    }
   ],
   "source": [
    "# Function to interleave two ranked lists\n",
    "def interleave_Balanced(list_a, list_b, interleave_length = 10, click_model = None):\n",
    "    #print(\"List A:\",list_a)\n",
    "    #print(\"List B:\",list_b)\n",
    "    interleaved = []\n",
    "    length = len(list_a) if len(list_a) <= len(list_b) else len(list_b)\n",
    "    \n",
    "    for i in range(length):\n",
    "        coin = random.randint(0,100)%2\n",
    "        #print(\"coin: \", (\"A\" if coin == 0 else \"B\"))\n",
    "        interleaved.append(list_a[i] if coin==0 else list_b[i])\n",
    "        interleaved.append(list_b[i] if coin==0 else list_a[i])  \n",
    "    #print(interleaved, \"\\n\")\n",
    "    \n",
    "    if(click_model):\n",
    "        #retrive winner\n",
    "        print(\"Have to implement tomorrow\")\n",
    "    \n",
    "    return interleaved\n",
    "\n",
    "# Interleave all sample pairs\n",
    "team_draft_interleaved = []\n",
    "for pairs in sample_pairs:\n",
    "    team_draft_interleaved.append(interleave_Balanced(pairs[0], pairs[1]))\n",
    "    \n",
    "\n",
    "print(\"Rankings from P: %s and Rankings from E: %s\" % (sample_pairs[0][0], sample_pairs[0][1])) \n",
    "print(\"Interleaved with Team-Draft interleaving gives: %s \" % (team_draft_interleaved[0]))"
   ]
  },
  {
   "cell_type": "markdown",
   "metadata": {},
   "source": [
    "### Probabilistic Interleaving"
   ]
  },
  {
   "cell_type": "code",
   "execution_count": 8,
   "metadata": {
    "collapsed": false
   },
   "outputs": [
    {
     "name": "stdout",
     "output_type": "stream",
     "text": [
      "['HR', 'R', 'R', 'HR', 'N', 'HR', 'N', 'HR']\n",
      "Rankings from P: ('R', 'R', 'N', 'R', 'HR') and Rankings from E: ('HR', 'HR', 'N', 'N', 'HR')\n",
      "Interleaved with Probabilistic interleaving gives: ['R', 'HR', 'R', 'HR', 'HR', 'N', 'N', 'HR'] \n"
     ]
    }
   ],
   "source": [
    "def soft_max(ranked_list, gamma):\n",
    "    selection_probabilities = []\n",
    "    normalizer = 0\n",
    "    for i in range(len(ranked_list)):\n",
    "        non_normalized_prob = 1 / (i + 1)**gamma\n",
    "        normalizer += non_normalized_prob\n",
    "        selection_probabilities.append(non_normalized_prob)\n",
    "    selection_probabilities = map(lambda x: x / normalizer, selection_probabilities)\n",
    "    return list(selection_probabilities)\n",
    "\n",
    "def interleave_probabilistic(list_a, list_b, rank_length=10, gamma=3):\n",
    "    # Control final list length, if total results are shorter than rank_length\n",
    "    if((len(list_a) + len(list_b)) < rank_length):\n",
    "        rank_length = len(list_a) if len(list_a) <= len(list_b) else len(list_b)\n",
    " \n",
    "    interleaved = []\n",
    "\n",
    "    # Calculate probabilities for each document in each list\n",
    "    prob_a = soft_max(list_a, gamma)\n",
    "    prob_b = soft_max(list_b, gamma)\n",
    "    \n",
    "    soft_max_selections_a = list(np.random.choice(list_a, len(list_a), p=prob_a, replace=False))\n",
    "    soft_max_selections_b = list(np.random.choice(list_b, len(list_b), p=prob_b, replace=False))\n",
    "\n",
    "    for i in range(rank_length):\n",
    "        if(len(soft_max_selections_a) > 0 and len(soft_max_selections_b) > 0):\n",
    "            choice = np.random.ranf()\n",
    "            if(choice <= 0.5):\n",
    "                interleaved.append(soft_max_selections_a.pop(0))\n",
    "            else:\n",
    "                 interleaved.append(soft_max_selections_b.pop(0))\n",
    "        else:\n",
    "            return interleaved\n",
    "        \n",
    "    return interleaved\n",
    " \n",
    "# test_list_10 = list(range(1, 10))\n",
    "# test_list_20 = list(range(11, 20))\n",
    "# print(interleave_probabilistic(test_list_10, test_list_20))\n",
    "\n",
    "test_1 = sample_pairs[0][0]\n",
    "test_2 = sample_pairs[0][1]\n",
    "print(interleave_probabilistic(test_1, test_2))\n",
    "\n",
    "# Interleave all sample pairs\n",
    "probabilistic_interleaved = []\n",
    "for pairs in sample_pairs:\n",
    "    probabilistic_interleaved.append(interleave_probabilistic(pairs[0], pairs[1]))\n",
    "\n",
    "print(\"Rankings from P: %s and Rankings from E: %s\" % (sample_pairs[0][0], sample_pairs[0][1])) \n",
    "print(\"Interleaved with Probabilistic interleaving gives: %s \" % (probabilistic_interleaved[0]))"
   ]
  },
  {
   "cell_type": "markdown",
   "metadata": {},
   "source": [
    "# Step 5: Implement User Clicks Simulation (25 points)"
   ]
  },
  {
   "cell_type": "markdown",
   "metadata": {
    "collapsed": false
   },
   "source": [
    "### Random Click Model (RCM)"
   ]
  },
  {
   "cell_type": "code",
   "execution_count": 44,
   "metadata": {
    "collapsed": false
   },
   "outputs": [
    {
     "name": "stdout",
     "output_type": "stream",
     "text": [
      "The Random Click Model trained on the Yandex Log file, gives a click probability p of 0.13445559411.\n"
     ]
    }
   ],
   "source": [
    "# All documents can be clicked with the same probability\n",
    "\n",
    "# The probability of being clicked is (number of clicks)/(number of documents shown)\n",
    "\n",
    "# This is what the model has to learn. \n",
    "headers = ['SessionID', 'TimePassed', 'TypeOfAction', 'QueryID', 'RegionID', \n",
    "'Rank1_URLID', \n",
    "'Rank2_URLID', \n",
    "'Rank3_URLID', \n",
    "'Rank4_URLID', \n",
    "'Rank5_URLID', \n",
    "'Rank6_URLID', \n",
    "'Rank7_URLID', \n",
    "'Rank8_URLID', \n",
    "'Rank9_URLID', \n",
    "'Rank10_URLID']\n",
    "\n",
    "data = pd.read_csv('YandexRelPredChallenge.txt', sep='\\t', names = headers)\n",
    "\n",
    "\n",
    "def random_click_model_learn(query_dataframe):\n",
    "    query_count = 0\n",
    "    click_prob_per_query = []\n",
    "\n",
    "    for index, row in query_dataframe.iterrows():\n",
    "        # Include session check\n",
    "        if(row['TypeOfAction'] == 'Q'):\n",
    "            query_count += 1\n",
    "            documents_shown = row[5:15].count()\n",
    "            click_count = 0\n",
    "            rows_below = 1\n",
    "            if((index + rows_below) >= len(query_dataframe.index)):\n",
    "                click_prob_per_query.append(click_count / documents_shown)\n",
    "                break\n",
    "            next_row_type = query_dataframe.iloc[index + rows_below]['TypeOfAction']\n",
    "            if(next_row_type == 'C'):\n",
    "                while(next_row_type == 'C'):\n",
    "                    click_count += 1\n",
    "                    rows_below += 1\n",
    "                    if((index + rows_below) >= len(query_dataframe.index)):\n",
    "                        break\n",
    "                    else:\n",
    "                        next_row_type = query_dataframe.iloc[index + rows_below]['TypeOfAction']\n",
    "                click_prob_per_query.append(click_count / documents_shown)\n",
    "            else:\n",
    "                click_prob_per_query.append(click_count / documents_shown)\n",
    "    average_click_prob = sum(click_prob_per_query) / len(click_prob_per_query)\n",
    "    return average_click_prob\n",
    "\n",
    "learned_click_probability = random_click_model_learn(data)\n",
    "\n",
    "print(\"The Random Click Model trained on the Yandex Log file, gives a click probability p of %s.\" % learned_click_probability)\n",
    "\n"
   ]
  },
  {
   "cell_type": "markdown",
   "metadata": {},
   "source": [
    "### Other Click Model"
   ]
  },
  {
   "cell_type": "code",
   "execution_count": null,
   "metadata": {
    "collapsed": true
   },
   "outputs": [],
   "source": []
  },
  {
   "cell_type": "markdown",
   "metadata": {},
   "source": [
    "# Step 6: Simulate Interleaving Experiment (10 points)"
   ]
  },
  {
   "cell_type": "code",
   "execution_count": null,
   "metadata": {
    "collapsed": true
   },
   "outputs": [],
   "source": []
  },
  {
   "cell_type": "markdown",
   "metadata": {},
   "source": [
    "# Step 7: Results and Analyis (25 points)"
   ]
  },
  {
   "cell_type": "code",
   "execution_count": null,
   "metadata": {
    "collapsed": true
   },
   "outputs": [],
   "source": []
  }
 ],
 "metadata": {
  "anaconda-cloud": {},
  "kernelspec": {
   "display_name": "Python 3",
   "language": "python",
   "name": "python3"
  },
  "language_info": {
   "codemirror_mode": {
    "name": "ipython",
    "version": 3
   },
   "file_extension": ".py",
   "mimetype": "text/x-python",
   "name": "python",
   "nbconvert_exporter": "python",
   "pygments_lexer": "ipython3",
   "version": "3.5.2"
  }
 },
 "nbformat": 4,
 "nbformat_minor": 1
}
